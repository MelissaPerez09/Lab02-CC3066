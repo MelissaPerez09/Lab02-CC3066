{
 "cells": [
  {
   "cell_type": "markdown",
   "metadata": {},
   "source": [
    "# Red Neuronal Profunda (DNN) para clasificación MNIST\n",
    "\n",
    "Aplicaremos todos nuestros conocimientos para crear una DNN, frecuentemente llamada también una Artificial Neural Network (ANN).  El problema que vamos a trabajar se conoce como el \"Hola Mundo\" del aprendizaje profundo porque para la mayoría de estudiantes este es el primer algoritmo de aprendizaje profundo que ven. \n",
    "\n",
    "El conjunto de datos se llama MNIST y se refiere al reconocimiento de dígitos escritos a mano.  Pueden encontrar más información en el sitio web de Yann LeCun (Director of AI Research, Facebook).  El es uno de los pioneros de todo este tema, así como de otras metodologías más complejas como las Redes Neurales Convolucionales (CNN) que se utilizan hoy día.\n",
    "\n",
    "El conjunto de datos tiene 70,000 imágenes (28x28 pixels) de dígitos escritos a mano (1 dígito por imagen).\n",
    "\n",
    "La meta es escribir un algoritmo que detecta qué dígito ha sido escrito.  Como solo hay 10 dígitos (0 al 9), este es un problema de clasificación con 10 clases.\n",
    "\n",
    "Nuestra meta será construir una RN con 2 capas escondidas."
   ]
  },
  {
   "cell_type": "markdown",
   "metadata": {},
   "source": [
    "## Importar los paquetes relevantes\n",
    "\n",
    "TensorFlow incluye un proveedor de datos de MNIST que utilizaremos acá.  Viene con el módulo **\"tensorflow.keras.datasets\"**. "
   ]
  },
  {
   "cell_type": "code",
   "execution_count": 811,
   "metadata": {
    "tags": []
   },
   "outputs": [],
   "source": [
    "import numpy as np\n",
    "import tensorflow as tf\n",
    "import time"
   ]
  },
  {
   "cell_type": "markdown",
   "metadata": {},
   "source": [
    "La siguiente instrucción, cuando se corre por primera vez, descarga el conjunto de datos en lo indicado por el parámetro path, relativo a  ~/.keras/datasets).  Como si se hubiera ejecutado Lo siguiente:\n",
    "\n",
    "tf.keras.datasets.mnist.load_data(\n",
    "    path='mnist.npz'\n",
    ")\n",
    "\n",
    "luego separa los datos en un conjunto para entrenamiento y otro para pruebas.\n",
    "\n",
    "Si se ejecuta más de una vez, ya no descarga el archivo."
   ]
  },
  {
   "cell_type": "code",
   "execution_count": 812,
   "metadata": {},
   "outputs": [],
   "source": [
    "(X_entreno, y_entreno), (X_prueba, y_prueba) = tf.keras.datasets.mnist.load_data()\n",
    "assert X_entreno.shape == (60000, 28, 28)\n",
    "assert X_prueba.shape == (10000, 28, 28)\n",
    "assert y_entreno.shape == (60000,)\n",
    "assert y_prueba.shape == (10000,)"
   ]
  },
  {
   "cell_type": "markdown",
   "metadata": {},
   "source": [
    "## Datos\n",
    "\n",
    "Esta sección es donde pre-procesaremos nuestros datos."
   ]
  },
  {
   "cell_type": "markdown",
   "metadata": {},
   "source": [
    "Por default, TF2 tiene conjuntos de datos de entrenamiento y de prueba, pero no tiene un conjunto de validación, por lo que debemos dividirlo por nuestra cuenta\n",
    "\n",
    "Lo haremos del mismo tamaño que el conjunto de prueba"
   ]
  },
  {
   "cell_type": "code",
   "execution_count": 813,
   "metadata": {},
   "outputs": [],
   "source": [
    "num_obs_validacion = y_prueba.shape[0]"
   ]
  },
  {
   "cell_type": "markdown",
   "metadata": {},
   "source": [
    "Usaremos una variable dedicada para el número de muestras de prueba"
   ]
  },
  {
   "cell_type": "code",
   "execution_count": 814,
   "metadata": {},
   "outputs": [],
   "source": [
    "num_obs_prueba = y_prueba.shape[0]"
   ]
  },
  {
   "cell_type": "markdown",
   "metadata": {},
   "source": [
    "Generalmente preferimos \"normalizar\" nuestros datos en alguna forma para que el resultado sea numéricamente más estable.  En este caso simplemente preferimos tener entradas entre 0 y 1, por lo que definimos una función, que reciba la imagen MNIST.\n",
    "\n",
    "Como los posibles valores de las entradas son entre 0 y 255 (256 posibles tonos de gris), al dividirlos por 255 obtenemos el resultado deseado."
   ]
  },
  {
   "cell_type": "code",
   "execution_count": 815,
   "metadata": {
    "tags": []
   },
   "outputs": [],
   "source": [
    "X_entreno_normalizado = X_entreno / 255"
   ]
  },
  {
   "cell_type": "markdown",
   "metadata": {},
   "source": [
    "Finalmente, normalizaremos y convertiremos los datos de pruebas en tandas.  Los normalizamos para que tengan la misma magnitud que los datos de entrenamiento y validación.\n",
    "\n",
    "No hay necesidad de \"barajearlo\" ya que no estaremos entrenando con los datos de prueba.  Habra una sola tanda, igual al tamaño de los datos de prueba."
   ]
  },
  {
   "cell_type": "code",
   "execution_count": 816,
   "metadata": {},
   "outputs": [],
   "source": [
    "X_prueba_normalizado = X_prueba / 255"
   ]
  },
  {
   "cell_type": "markdown",
   "metadata": {},
   "source": [
    "Una vez se han \"normalizado\" los datos, podemos proceder a extraer los datos de entrenamiento y de validación.\n",
    "\n",
    "Nuestros datos de validación serán 10000 para ser igual al conjunto de prueba.\n",
    "\n",
    "Finalmente, creamos una tanda con un tamaño de tanda igual al total de muestras de validación."
   ]
  },
  {
   "cell_type": "code",
   "execution_count": 817,
   "metadata": {},
   "outputs": [],
   "source": [
    "X_validacion = X_entreno_normalizado[-num_obs_validacion: , : , : ]\n",
    "y_validacion = y_entreno[-num_obs_validacion:]"
   ]
  },
  {
   "cell_type": "markdown",
   "metadata": {},
   "source": [
    "Similarmente, los datos de entrenamiento son todos los demás por lo que nos salteamos tantas observaciones como las hay en el conjunto de validación."
   ]
  },
  {
   "cell_type": "code",
   "execution_count": 818,
   "metadata": {},
   "outputs": [],
   "source": [
    "X_entreno = X_entreno_normalizado[ : X_entreno_normalizado.shape[0] - num_obs_validacion, : , : ]\n",
    "y_entreno = y_entreno[ : y_entreno.shape[0] - num_obs_validacion]\n",
    "num_obs_entreno = y_entreno.shape[0]"
   ]
  },
  {
   "cell_type": "markdown",
   "metadata": {},
   "source": [
    "Convertir de Arreglos Numpy a Tensores"
   ]
  },
  {
   "cell_type": "code",
   "execution_count": 819,
   "metadata": {},
   "outputs": [],
   "source": [
    "datos_entreno = tf.data.Dataset.from_tensor_slices((X_entreno, y_entreno))\n",
    "datos_validacion = tf.data.Dataset.from_tensor_slices((X_validacion, y_validacion))\n",
    "datos_prueba = tf.data.Dataset.from_tensor_slices((X_prueba, y_prueba))"
   ]
  },
  {
   "cell_type": "markdown",
   "metadata": {},
   "source": [
    "Barajear y hacer tandas con el conjunto de datos de entrenamiento"
   ]
  },
  {
   "cell_type": "code",
   "execution_count": 820,
   "metadata": {},
   "outputs": [],
   "source": [
    "TAMANIO_TANDA = 400\n",
    "datos_entreno = datos_entreno.shuffle(buffer_size = num_obs_entreno).batch(TAMANIO_TANDA)"
   ]
  },
  {
   "cell_type": "markdown",
   "metadata": {},
   "source": [
    "Hacer tandas con los conjunto de validación y prueba, no se necesita barajearlos"
   ]
  },
  {
   "cell_type": "code",
   "execution_count": 821,
   "metadata": {},
   "outputs": [],
   "source": [
    "datos_validacion = datos_validacion.batch(TAMANIO_TANDA)\n",
    "datos_prueba = datos_prueba.batch(TAMANIO_TANDA)"
   ]
  },
  {
   "cell_type": "markdown",
   "metadata": {},
   "source": [
    "## Modelo"
   ]
  },
  {
   "cell_type": "markdown",
   "metadata": {},
   "source": [
    "### Delineamos el modelo\n",
    "\n",
    "Cuando pensamos sobre un algoritmo de aprenzaje profundo, casi siempre solo lo imaginamos.  Asi que esta vez, hagámoslo.  :)"
   ]
  },
  {
   "cell_type": "code",
   "execution_count": 822,
   "metadata": {
    "tags": []
   },
   "outputs": [],
   "source": [
    "tamanio_entrada = 784\n",
    "tamanio_salida = 10"
   ]
  },
  {
   "cell_type": "markdown",
   "metadata": {},
   "source": [
    "Usaremos el mismo ancho para ambas capas escondidas.  No es una necesidad!"
   ]
  },
  {
   "cell_type": "code",
   "execution_count": 823,
   "metadata": {},
   "outputs": [],
   "source": [
    "tamanio_capa_escondida = 1024"
   ]
  },
  {
   "cell_type": "markdown",
   "metadata": {},
   "source": [
    "# Definimos cómo se verá el modelo\n",
    "\n",
    "La primera capa (la de entrada):  cada observación es de 28x28 píxeles, por lo tanto es un tensor de rango 2.\n",
    "\n",
    "Como aún no hemos aprendido sobre CNNs, no sabemos como alimentar este tipo de entrada a nuestra red, por lo tanto hay que \"aplanar\" las imágenes.  Hay un método conveniente **Flatten** que toma nuestro tensor de 28x28 y lo convierte en  un vector (None), o (784,)...porque 28x28 = 784.  Esto nos permite crear una red de alimentación hacia adelante.\n",
    "\n",
    "    \n",
    "**tf.keras.layers.Dense** básicamente implementa:  output = activation(dot(entrada, peso) + sesgo).  Requiere varios argumentos, pero los más importantes para nosotros son el ancho de la capa escondida y la función de activación.\n",
    "\n",
    "La capa final no es diferente, solo nos aseguramos de activarla con **softmax**\n"
   ]
  },
  {
   "cell_type": "code",
   "execution_count": 824,
   "metadata": {},
   "outputs": [],
   "source": [
    "modelo = tf.keras.Sequential([\n",
    "\n",
    "    tf.keras.layers.Flatten(input_shape=(28, 28)), # capa entrada\n",
    "    \n",
    "    tf.keras.layers.Dense(tamanio_capa_escondida, activation='relu'), # 1era capa escondida\n",
    "    tf.keras.layers.Dense(tamanio_capa_escondida, activation='relu'), # 2nda capa escondida\n",
    "\n",
    "    tf.keras.layers.Dense(tamanio_salida, activation='softmax') # capa salida\n",
    "])"
   ]
  },
  {
   "cell_type": "markdown",
   "metadata": {},
   "source": [
    "### Seleccionar el optimizador y la función de pérdida"
   ]
  },
  {
   "cell_type": "markdown",
   "metadata": {
    "tags": []
   },
   "source": [
    "Definimos el optimizador que nos gustaría utilizar, la función de pérdida, y las métricas que nos interesa obtener en cada interacción"
   ]
  },
  {
   "cell_type": "code",
   "execution_count": 825,
   "metadata": {},
   "outputs": [],
   "source": [
    "modelo.compile('adam', \n",
    "               loss='sparse_categorical_crossentropy', \n",
    "               metrics=['accuracy'])"
   ]
  },
  {
   "cell_type": "markdown",
   "metadata": {},
   "source": [
    "### Entrenamiento\n",
    "\n",
    "Acá es donde entrenamos el modelo que hemos construído\n",
    "\n",
    "Determinamos el número máximo de épocas.\n",
    "\n",
    "Ajustamos el modelo , especificando:\n",
    "\n",
    "* los datos de entrenamiento\n",
    "* el número total de épocas\n",
    "* y los datos de validación que creamos en el formato (entradas, metas)"
   ]
  },
  {
   "cell_type": "code",
   "execution_count": 826,
   "metadata": {},
   "outputs": [
    {
     "name": "stdout",
     "output_type": "stream",
     "text": [
      "Epoch 1/100\n",
      "125/125 - 4s - 36ms/step - accuracy: 0.9161 - loss: 0.2776 - val_accuracy: 0.9626 - val_loss: 0.1287\n",
      "Epoch 2/100\n",
      "125/125 - 3s - 26ms/step - accuracy: 0.9729 - loss: 0.0898 - val_accuracy: 0.9723 - val_loss: 0.0938\n",
      "Epoch 3/100\n",
      "125/125 - 3s - 27ms/step - accuracy: 0.9831 - loss: 0.0542 - val_accuracy: 0.9756 - val_loss: 0.0807\n",
      "Epoch 4/100\n",
      "125/125 - 3s - 25ms/step - accuracy: 0.9892 - loss: 0.0352 - val_accuracy: 0.9736 - val_loss: 0.0887\n",
      "Epoch 5/100\n",
      "125/125 - 3s - 26ms/step - accuracy: 0.9917 - loss: 0.0250 - val_accuracy: 0.9751 - val_loss: 0.0940\n",
      "Epoch 6/100\n",
      "125/125 - 3s - 26ms/step - accuracy: 0.9939 - loss: 0.0186 - val_accuracy: 0.9810 - val_loss: 0.0704\n",
      "Epoch 7/100\n",
      "125/125 - 3s - 26ms/step - accuracy: 0.9973 - loss: 0.0095 - val_accuracy: 0.9823 - val_loss: 0.0733\n",
      "Epoch 8/100\n",
      "125/125 - 3s - 26ms/step - accuracy: 0.9982 - loss: 0.0065 - val_accuracy: 0.9814 - val_loss: 0.0816\n",
      "Epoch 9/100\n",
      "125/125 - 3s - 26ms/step - accuracy: 0.9978 - loss: 0.0069 - val_accuracy: 0.9798 - val_loss: 0.0821\n",
      "Epoch 10/100\n",
      "125/125 - 3s - 26ms/step - accuracy: 0.9978 - loss: 0.0073 - val_accuracy: 0.9809 - val_loss: 0.0816\n",
      "Epoch 11/100\n",
      "125/125 - 3s - 25ms/step - accuracy: 0.9978 - loss: 0.0071 - val_accuracy: 0.9749 - val_loss: 0.1167\n",
      "Epoch 12/100\n",
      "125/125 - 3s - 26ms/step - accuracy: 0.9962 - loss: 0.0127 - val_accuracy: 0.9753 - val_loss: 0.1104\n",
      "Epoch 13/100\n",
      "125/125 - 3s - 26ms/step - accuracy: 0.9958 - loss: 0.0124 - val_accuracy: 0.9806 - val_loss: 0.0924\n",
      "Epoch 14/100\n",
      "125/125 - 3s - 27ms/step - accuracy: 0.9968 - loss: 0.0094 - val_accuracy: 0.9801 - val_loss: 0.0835\n",
      "Epoch 15/100\n",
      "125/125 - 3s - 27ms/step - accuracy: 0.9986 - loss: 0.0046 - val_accuracy: 0.9790 - val_loss: 0.1035\n",
      "Epoch 16/100\n",
      "125/125 - 3s - 26ms/step - accuracy: 0.9984 - loss: 0.0047 - val_accuracy: 0.9825 - val_loss: 0.0856\n",
      "Epoch 17/100\n",
      "125/125 - 3s - 25ms/step - accuracy: 0.9980 - loss: 0.0059 - val_accuracy: 0.9799 - val_loss: 0.1069\n",
      "Epoch 18/100\n",
      "125/125 - 3s - 27ms/step - accuracy: 0.9972 - loss: 0.0093 - val_accuracy: 0.9805 - val_loss: 0.1052\n",
      "Epoch 19/100\n",
      "125/125 - 3s - 26ms/step - accuracy: 0.9974 - loss: 0.0089 - val_accuracy: 0.9804 - val_loss: 0.1123\n",
      "Epoch 20/100\n",
      "125/125 - 3s - 26ms/step - accuracy: 0.9966 - loss: 0.0101 - val_accuracy: 0.9773 - val_loss: 0.1191\n",
      "Epoch 21/100\n",
      "125/125 - 3s - 26ms/step - accuracy: 0.9976 - loss: 0.0080 - val_accuracy: 0.9808 - val_loss: 0.0969\n",
      "Epoch 22/100\n",
      "125/125 - 3s - 25ms/step - accuracy: 0.9983 - loss: 0.0048 - val_accuracy: 0.9805 - val_loss: 0.1039\n",
      "Epoch 23/100\n",
      "125/125 - 3s - 26ms/step - accuracy: 0.9980 - loss: 0.0069 - val_accuracy: 0.9800 - val_loss: 0.1164\n",
      "Epoch 24/100\n",
      "125/125 - 3s - 27ms/step - accuracy: 0.9990 - loss: 0.0030 - val_accuracy: 0.9830 - val_loss: 0.1005\n",
      "Epoch 25/100\n",
      "125/125 - 3s - 26ms/step - accuracy: 0.9996 - loss: 0.0011 - val_accuracy: 0.9846 - val_loss: 0.0954\n",
      "Epoch 26/100\n",
      "125/125 - 3s - 26ms/step - accuracy: 0.9992 - loss: 0.0024 - val_accuracy: 0.9814 - val_loss: 0.1080\n",
      "Epoch 27/100\n",
      "125/125 - 3s - 26ms/step - accuracy: 0.9979 - loss: 0.0075 - val_accuracy: 0.9810 - val_loss: 0.1128\n",
      "Epoch 28/100\n",
      "125/125 - 3s - 26ms/step - accuracy: 0.9972 - loss: 0.0083 - val_accuracy: 0.9781 - val_loss: 0.1271\n",
      "Epoch 29/100\n",
      "125/125 - 3s - 27ms/step - accuracy: 0.9976 - loss: 0.0070 - val_accuracy: 0.9810 - val_loss: 0.1116\n",
      "Epoch 30/100\n",
      "125/125 - 3s - 26ms/step - accuracy: 0.9981 - loss: 0.0056 - val_accuracy: 0.9806 - val_loss: 0.1051\n",
      "Epoch 31/100\n",
      "125/125 - 3s - 27ms/step - accuracy: 0.9990 - loss: 0.0030 - val_accuracy: 0.9836 - val_loss: 0.1016\n",
      "Epoch 32/100\n",
      "125/125 - 3s - 26ms/step - accuracy: 0.9997 - loss: 0.0012 - val_accuracy: 0.9842 - val_loss: 0.0941\n",
      "Epoch 33/100\n",
      "125/125 - 3s - 26ms/step - accuracy: 0.9994 - loss: 0.0022 - val_accuracy: 0.9814 - val_loss: 0.1041\n",
      "Epoch 34/100\n",
      "125/125 - 3s - 26ms/step - accuracy: 0.9991 - loss: 0.0029 - val_accuracy: 0.9823 - val_loss: 0.1132\n",
      "Epoch 35/100\n",
      "125/125 - 3s - 25ms/step - accuracy: 0.9980 - loss: 0.0067 - val_accuracy: 0.9812 - val_loss: 0.1292\n",
      "Epoch 36/100\n",
      "125/125 - 3s - 26ms/step - accuracy: 0.9974 - loss: 0.0078 - val_accuracy: 0.9805 - val_loss: 0.1249\n",
      "Epoch 37/100\n",
      "125/125 - 3s - 25ms/step - accuracy: 0.9978 - loss: 0.0072 - val_accuracy: 0.9818 - val_loss: 0.1109\n",
      "Epoch 38/100\n",
      "125/125 - 3s - 26ms/step - accuracy: 0.9989 - loss: 0.0035 - val_accuracy: 0.9820 - val_loss: 0.1080\n",
      "Epoch 39/100\n",
      "125/125 - 3s - 25ms/step - accuracy: 0.9996 - loss: 0.0014 - val_accuracy: 0.9840 - val_loss: 0.1088\n",
      "Epoch 40/100\n",
      "125/125 - 3s - 26ms/step - accuracy: 0.9997 - loss: 0.0015 - val_accuracy: 0.9852 - val_loss: 0.1008\n",
      "Epoch 41/100\n",
      "125/125 - 3s - 25ms/step - accuracy: 0.9998 - loss: 4.9317e-04 - val_accuracy: 0.9839 - val_loss: 0.1141\n",
      "Epoch 42/100\n",
      "125/125 - 3s - 27ms/step - accuracy: 0.9995 - loss: 0.0015 - val_accuracy: 0.9837 - val_loss: 0.1116\n",
      "Epoch 43/100\n",
      "125/125 - 3s - 25ms/step - accuracy: 0.9999 - loss: 1.9927e-04 - val_accuracy: 0.9839 - val_loss: 0.1077\n",
      "Epoch 44/100\n",
      "125/125 - 3s - 26ms/step - accuracy: 1.0000 - loss: 2.2815e-04 - val_accuracy: 0.9835 - val_loss: 0.1118\n",
      "Epoch 45/100\n",
      "125/125 - 3s - 26ms/step - accuracy: 1.0000 - loss: 4.2433e-05 - val_accuracy: 0.9845 - val_loss: 0.1093\n",
      "Epoch 46/100\n",
      "125/125 - 3s - 28ms/step - accuracy: 1.0000 - loss: 1.3220e-05 - val_accuracy: 0.9854 - val_loss: 0.1082\n",
      "Epoch 47/100\n",
      "125/125 - 3s - 26ms/step - accuracy: 1.0000 - loss: 8.3608e-06 - val_accuracy: 0.9852 - val_loss: 0.1083\n",
      "Epoch 48/100\n",
      "125/125 - 3s - 26ms/step - accuracy: 1.0000 - loss: 7.0854e-06 - val_accuracy: 0.9851 - val_loss: 0.1085\n",
      "Epoch 49/100\n",
      "125/125 - 3s - 26ms/step - accuracy: 1.0000 - loss: 6.2060e-06 - val_accuracy: 0.9851 - val_loss: 0.1087\n",
      "Epoch 50/100\n",
      "125/125 - 3s - 25ms/step - accuracy: 1.0000 - loss: 5.5321e-06 - val_accuracy: 0.9850 - val_loss: 0.1089\n",
      "Epoch 51/100\n",
      "125/125 - 3s - 26ms/step - accuracy: 1.0000 - loss: 4.9970e-06 - val_accuracy: 0.9850 - val_loss: 0.1092\n",
      "Epoch 52/100\n",
      "125/125 - 3s - 25ms/step - accuracy: 1.0000 - loss: 4.5474e-06 - val_accuracy: 0.9849 - val_loss: 0.1095\n",
      "Epoch 53/100\n",
      "125/125 - 3s - 27ms/step - accuracy: 1.0000 - loss: 4.1583e-06 - val_accuracy: 0.9849 - val_loss: 0.1097\n",
      "Epoch 54/100\n",
      "125/125 - 3s - 26ms/step - accuracy: 1.0000 - loss: 3.8253e-06 - val_accuracy: 0.9849 - val_loss: 0.1100\n",
      "Epoch 55/100\n",
      "125/125 - 3s - 26ms/step - accuracy: 1.0000 - loss: 3.5308e-06 - val_accuracy: 0.9847 - val_loss: 0.1103\n",
      "Epoch 56/100\n",
      "125/125 - 3s - 25ms/step - accuracy: 1.0000 - loss: 3.2646e-06 - val_accuracy: 0.9847 - val_loss: 0.1106\n",
      "Epoch 57/100\n",
      "125/125 - 3s - 26ms/step - accuracy: 1.0000 - loss: 3.0257e-06 - val_accuracy: 0.9847 - val_loss: 0.1109\n",
      "Epoch 58/100\n",
      "125/125 - 3s - 26ms/step - accuracy: 1.0000 - loss: 2.8117e-06 - val_accuracy: 0.9848 - val_loss: 0.1112\n",
      "Epoch 59/100\n",
      "125/125 - 3s - 26ms/step - accuracy: 1.0000 - loss: 2.6158e-06 - val_accuracy: 0.9847 - val_loss: 0.1115\n",
      "Epoch 60/100\n",
      "125/125 - 3s - 26ms/step - accuracy: 1.0000 - loss: 2.4356e-06 - val_accuracy: 0.9848 - val_loss: 0.1118\n",
      "Epoch 61/100\n",
      "125/125 - 3s - 25ms/step - accuracy: 1.0000 - loss: 2.2727e-06 - val_accuracy: 0.9848 - val_loss: 0.1121\n",
      "Epoch 62/100\n",
      "125/125 - 3s - 26ms/step - accuracy: 1.0000 - loss: 2.1229e-06 - val_accuracy: 0.9847 - val_loss: 0.1124\n",
      "Epoch 63/100\n",
      "125/125 - 3s - 26ms/step - accuracy: 1.0000 - loss: 1.9864e-06 - val_accuracy: 0.9850 - val_loss: 0.1127\n",
      "Epoch 64/100\n",
      "125/125 - 3s - 27ms/step - accuracy: 1.0000 - loss: 1.8581e-06 - val_accuracy: 0.9849 - val_loss: 0.1130\n",
      "Epoch 65/100\n",
      "125/125 - 3s - 26ms/step - accuracy: 1.0000 - loss: 1.7395e-06 - val_accuracy: 0.9851 - val_loss: 0.1133\n",
      "Epoch 66/100\n",
      "125/125 - 3s - 26ms/step - accuracy: 1.0000 - loss: 1.6299e-06 - val_accuracy: 0.9851 - val_loss: 0.1137\n",
      "Epoch 67/100\n",
      "125/125 - 3s - 26ms/step - accuracy: 1.0000 - loss: 1.5264e-06 - val_accuracy: 0.9851 - val_loss: 0.1140\n",
      "Epoch 68/100\n",
      "125/125 - 3s - 27ms/step - accuracy: 1.0000 - loss: 1.4320e-06 - val_accuracy: 0.9852 - val_loss: 0.1143\n",
      "Epoch 69/100\n",
      "125/125 - 3s - 27ms/step - accuracy: 1.0000 - loss: 1.3441e-06 - val_accuracy: 0.9851 - val_loss: 0.1146\n",
      "Epoch 70/100\n",
      "125/125 - 3s - 27ms/step - accuracy: 1.0000 - loss: 1.2600e-06 - val_accuracy: 0.9853 - val_loss: 0.1150\n",
      "Epoch 71/100\n",
      "125/125 - 3s - 26ms/step - accuracy: 1.0000 - loss: 1.1830e-06 - val_accuracy: 0.9853 - val_loss: 0.1153\n",
      "Epoch 72/100\n",
      "125/125 - 3s - 26ms/step - accuracy: 1.0000 - loss: 1.1114e-06 - val_accuracy: 0.9853 - val_loss: 0.1157\n",
      "Epoch 73/100\n",
      "125/125 - 3s - 26ms/step - accuracy: 1.0000 - loss: 1.0427e-06 - val_accuracy: 0.9853 - val_loss: 0.1160\n",
      "Epoch 74/100\n",
      "125/125 - 3s - 26ms/step - accuracy: 1.0000 - loss: 9.7938e-07 - val_accuracy: 0.9851 - val_loss: 0.1163\n",
      "Epoch 75/100\n",
      "125/125 - 3s - 26ms/step - accuracy: 1.0000 - loss: 9.1946e-07 - val_accuracy: 0.9851 - val_loss: 0.1167\n",
      "Epoch 76/100\n",
      "125/125 - 3s - 25ms/step - accuracy: 1.0000 - loss: 8.6406e-07 - val_accuracy: 0.9851 - val_loss: 0.1170\n",
      "Epoch 77/100\n",
      "125/125 - 3s - 26ms/step - accuracy: 1.0000 - loss: 8.1201e-07 - val_accuracy: 0.9852 - val_loss: 0.1173\n",
      "Epoch 78/100\n",
      "125/125 - 3s - 26ms/step - accuracy: 1.0000 - loss: 7.6315e-07 - val_accuracy: 0.9852 - val_loss: 0.1177\n",
      "Epoch 79/100\n",
      "125/125 - 3s - 26ms/step - accuracy: 1.0000 - loss: 7.1694e-07 - val_accuracy: 0.9852 - val_loss: 0.1180\n",
      "Epoch 80/100\n",
      "125/125 - 3s - 26ms/step - accuracy: 1.0000 - loss: 6.7377e-07 - val_accuracy: 0.9852 - val_loss: 0.1184\n",
      "Epoch 81/100\n",
      "125/125 - 3s - 26ms/step - accuracy: 1.0000 - loss: 6.3335e-07 - val_accuracy: 0.9854 - val_loss: 0.1188\n",
      "Epoch 82/100\n",
      "125/125 - 3s - 26ms/step - accuracy: 1.0000 - loss: 5.9427e-07 - val_accuracy: 0.9854 - val_loss: 0.1192\n",
      "Epoch 83/100\n",
      "125/125 - 3s - 27ms/step - accuracy: 1.0000 - loss: 5.5841e-07 - val_accuracy: 0.9854 - val_loss: 0.1195\n",
      "Epoch 84/100\n",
      "125/125 - 3s - 26ms/step - accuracy: 1.0000 - loss: 5.2465e-07 - val_accuracy: 0.9853 - val_loss: 0.1199\n",
      "Epoch 85/100\n",
      "125/125 - 3s - 27ms/step - accuracy: 1.0000 - loss: 4.9303e-07 - val_accuracy: 0.9853 - val_loss: 0.1203\n",
      "Epoch 86/100\n",
      "125/125 - 3s - 26ms/step - accuracy: 1.0000 - loss: 4.6359e-07 - val_accuracy: 0.9853 - val_loss: 0.1206\n",
      "Epoch 87/100\n",
      "125/125 - 3s - 26ms/step - accuracy: 1.0000 - loss: 4.3518e-07 - val_accuracy: 0.9853 - val_loss: 0.1210\n",
      "Epoch 88/100\n",
      "125/125 - 3s - 26ms/step - accuracy: 1.0000 - loss: 4.0910e-07 - val_accuracy: 0.9853 - val_loss: 0.1214\n",
      "Epoch 89/100\n",
      "125/125 - 3s - 26ms/step - accuracy: 1.0000 - loss: 3.8430e-07 - val_accuracy: 0.9852 - val_loss: 0.1218\n",
      "Epoch 90/100\n",
      "125/125 - 3s - 26ms/step - accuracy: 1.0000 - loss: 3.6109e-07 - val_accuracy: 0.9854 - val_loss: 0.1222\n",
      "Epoch 91/100\n",
      "125/125 - 3s - 26ms/step - accuracy: 1.0000 - loss: 3.3938e-07 - val_accuracy: 0.9854 - val_loss: 0.1226\n",
      "Epoch 92/100\n",
      "125/125 - 3s - 26ms/step - accuracy: 1.0000 - loss: 3.1895e-07 - val_accuracy: 0.9854 - val_loss: 0.1230\n",
      "Epoch 93/100\n",
      "125/125 - 3s - 26ms/step - accuracy: 1.0000 - loss: 2.9968e-07 - val_accuracy: 0.9854 - val_loss: 0.1233\n",
      "Epoch 94/100\n",
      "125/125 - 3s - 26ms/step - accuracy: 1.0000 - loss: 2.8156e-07 - val_accuracy: 0.9854 - val_loss: 0.1237\n",
      "Epoch 95/100\n",
      "125/125 - 3s - 25ms/step - accuracy: 1.0000 - loss: 2.6467e-07 - val_accuracy: 0.9853 - val_loss: 0.1241\n",
      "Epoch 96/100\n",
      "125/125 - 3s - 26ms/step - accuracy: 1.0000 - loss: 2.4864e-07 - val_accuracy: 0.9854 - val_loss: 0.1245\n",
      "Epoch 97/100\n",
      "125/125 - 3s - 25ms/step - accuracy: 1.0000 - loss: 2.3370e-07 - val_accuracy: 0.9855 - val_loss: 0.1250\n",
      "Epoch 98/100\n",
      "125/125 - 3s - 26ms/step - accuracy: 1.0000 - loss: 2.1951e-07 - val_accuracy: 0.9854 - val_loss: 0.1254\n",
      "Epoch 99/100\n",
      "125/125 - 3s - 26ms/step - accuracy: 1.0000 - loss: 2.0630e-07 - val_accuracy: 0.9855 - val_loss: 0.1257\n",
      "Epoch 100/100\n",
      "125/125 - 3s - 28ms/step - accuracy: 1.0000 - loss: 1.9378e-07 - val_accuracy: 0.9854 - val_loss: 0.1262\n"
     ]
    }
   ],
   "source": [
    "# Medir el tiempo de entrenamiento\n",
    "start_time = time.time()\n",
    "\n",
    "NUMERO_EPOCAS = 100\n",
    "\n",
    "modelo.fit(datos_entreno,\n",
    "          epochs = NUMERO_EPOCAS, \n",
    "          validation_data = datos_validacion,\n",
    "          verbose = 2)\n",
    "\n",
    "training_time = time.time() - start_time"
   ]
  },
  {
   "cell_type": "markdown",
   "metadata": {},
   "source": [
    "## Probar el modelo\n",
    "\n",
    "Como se discutió en clase, luego del entrenamiento (con los datos de entrenamiento), y la validación (con los datos de validación), probamos el potencial de predicción final de nuestro modelo con el conjunto de datos de prueba que el algoritmo NUNCA ha visto antes.\n",
    "\n",
    "Es muy importante reconocer que estar \"jugando\" con los hiperparámetros sobre-ajusta el conjunto de datos de validación.\n",
    "\n",
    "La prueba es la instancia absolutamente final. Nunca debe probarse el modelo antes de haber completamente ajustado el modelo.\n",
    "\n",
    "Si se ajusta el modelo después de hacer la prueba, se empezará a sobre-ajustar el conjunto de datos de prueba, que echaría \"por los suelos\" el propósito original del mismo."
   ]
  },
  {
   "cell_type": "code",
   "execution_count": 827,
   "metadata": {},
   "outputs": [
    {
     "name": "stdout",
     "output_type": "stream",
     "text": [
      "\u001b[1m25/25\u001b[0m \u001b[32m━━━━━━━━━━━━━━━━━━━━\u001b[0m\u001b[37m\u001b[0m \u001b[1m0s\u001b[0m 9ms/step - accuracy: 0.9848 - loss: 34.2735\n"
     ]
    }
   ],
   "source": [
    "perdida_prueba, precision_prueba = modelo.evaluate(datos_prueba)"
   ]
  },
  {
   "cell_type": "code",
   "execution_count": 828,
   "metadata": {},
   "outputs": [
    {
     "name": "stdout",
     "output_type": "stream",
     "text": [
      "Pérdida de prueba: 27.27\n",
      "Precisión de prueba: 98.70%\n",
      "Tiempo de entrenamiento: 327.29 segundos\n"
     ]
    }
   ],
   "source": [
    "print('Pérdida de prueba: {0:.2f}'.format(perdida_prueba, precision_prueba * 100.))\n",
    "print ('Precisión de prueba: {1:.2f}%'.format(perdida_prueba, precision_prueba * 100.))\n",
    "print ('Tiempo de entrenamiento: {0:.2f} segundos'.format(training_time))"
   ]
  },
  {
   "cell_type": "markdown",
   "metadata": {},
   "source": [
    "Utilizando el modelo inicial y los hiperparámetros dados en este notebook, la precisión de prueba final debe ser aproximadamente 97%.\n",
    "\n",
    "Cada vez que se ejecuta el código, se obtiene una precisión diferente debido a la \"barajeada\" de las tandas, los pesos se inicializan en forma diferente, etc.\n",
    "\n",
    "Finalmente, intencionalmente se ha llegado a una solución subóptima, para que puedan tener la oportunidad de mejorarla como ejercicio de laboratorio."
   ]
  }
 ],
 "metadata": {
  "kernelspec": {
   "display_name": "Python 3 (ipykernel)",
   "language": "python",
   "name": "python3"
  },
  "language_info": {
   "codemirror_mode": {
    "name": "ipython",
    "version": 3
   },
   "file_extension": ".py",
   "mimetype": "text/x-python",
   "name": "python",
   "nbconvert_exporter": "python",
   "pygments_lexer": "ipython3",
   "version": "3.11.9"
  }
 },
 "nbformat": 4,
 "nbformat_minor": 4
}
